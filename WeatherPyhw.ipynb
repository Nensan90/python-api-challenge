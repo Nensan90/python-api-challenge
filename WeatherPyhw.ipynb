{
 "cells": [
  {
   "cell_type": "markdown",
   "metadata": {},
   "source": [
    "# WeatherPy\n",
    "----\n",
    "\n",
    "#### Note\n",
    "* Instructions have been included for each segment. You do not have to follow them exactly, but they are included to help you think through the steps."
   ]
  },
  {
   "cell_type": "code",
   "execution_count": 1,
   "metadata": {
    "scrolled": true
   },
   "outputs": [],
   "source": [
    "# Dependencies and Setup\n",
    "import matplotlib.pyplot as plt\n",
    "import pandas as pd\n",
    "import numpy as np\n",
    "import requests\n",
    "import time\n",
    "from scipy.stats import linregress\n",
    "import random\n",
    "import json\n",
    "\n",
    "# Import API key\n",
    "from api_keys import weather_api_key\n",
    "\n",
    "# Incorporated citipy to determine city based on latitude and longitude\n",
    "from citipy import citipy\n",
    "\n",
    "# Output File (CSV)\n",
    "output_data_file = \"output_data/cities.csv\"\n",
    "\n",
    "# Range of latitudes and longitudes\n",
    "lat_range = (-90, 90)\n",
    "lng_range = (-180, 180)"
   ]
  },
  {
   "cell_type": "markdown",
   "metadata": {},
   "source": [
    "## Generate Cities List"
   ]
  },
  {
   "cell_type": "code",
   "execution_count": 2,
   "metadata": {},
   "outputs": [
    {
     "data": {
      "text/plain": [
       "614"
      ]
     },
     "execution_count": 2,
     "metadata": {},
     "output_type": "execute_result"
    }
   ],
   "source": [
    "# List for holding lat_lngs and cities\n",
    "lat_lngs = []\n",
    "cities = []\n",
    "\n",
    "# Create a set of random lat and lng combinations\n",
    "lats = np.random.uniform(lat_range[0], lat_range[1], size=1500)\n",
    "lngs = np.random.uniform(lng_range[0], lng_range[1], size=1500)\n",
    "lat_lngs = zip(lats, lngs)\n",
    "\n",
    "# Identify nearest city for each lat, lng combination\n",
    "for lat_lng in lat_lngs:\n",
    "    city = citipy.nearest_city(lat_lng[0], lat_lng[1]).city_name\n",
    "    \n",
    "    # If the city is unique, then add it to a our cities list\n",
    "    if city not in cities:\n",
    "        cities.append(city)\n",
    "\n",
    "# Print the city count to confirm sufficient count\n",
    "len(cities)"
   ]
  },
  {
   "cell_type": "markdown",
   "metadata": {},
   "source": [
    "### Perform API Calls\n",
    "* Perform a weather check on each city using a series of successive API calls.\n",
    "* Include a print log of each city as it'sbeing processed (with the city number and city name).\n"
   ]
  },
  {
   "cell_type": "code",
   "execution_count": 3,
   "metadata": {
    "scrolled": true
   },
   "outputs": [
    {
     "name": "stdout",
     "output_type": "stream",
     "text": [
      "Retrieving Data\n",
      "Processing record 1 | puerto princesa\n",
      "Processing record 2 | port alfred\n",
      "Processing record 3 | bethel\n",
      "Processing record 4 | provideniya\n",
      "Processing record 5 | mataura\n",
      "Processing record 6 | salym\n",
      "Processing record 7 | jamestown\n",
      "Processing record 8 | vila velha\n",
      "Processing record 9 | luderitz\n",
      "Processing record 10 | katsuura\n",
      "Processing record 11 | nikolskoye\n",
      "Processing record 12 | buhe\n",
      "Processing record 13 | zlobin\n",
      "Processing record 14 | mailsi\n",
      "Processing record 15 | yenagoa\n",
      "Processing record 16 | hermanus\n",
      "Processing record 17 | tasiilaq\n",
      "Processing record 18 | ashoknagar\n",
      "Processing record 19 | san patricio\n",
      "Processing record 20 | vesoul\n",
      "Processing record 21 | bonthe\n",
      "Processing record 22 | bondo\n",
      "Processing record 23 | jalu\n",
      "Processing record 24 | lompoc\n",
      "Processing record 25 | yumen\n",
      "Processing record 26 | comodoro rivadavia\n",
      "Processing record 27 | khatanga\n",
      "Processing record 28 | khasan\n",
      "Processing record 29 | chara\n",
      "Processing record 30 | rikitea\n",
      "Processing record 31 | sur\n",
      "Processing record 32 | ushuaia\n",
      "Processing record 33 | cape town\n",
      "Processing record 34 | kapaa\n",
      "Processing record 35 | ponta do sol\n",
      "Processing record 36 | dharmanagar\n",
      "Processing record 37 | vaitupu\n",
      "Processing record 38 | samarkand\n",
      "Processing record 39 | mbandaka\n",
      "Processing record 40 | noumea\n",
      "Processing record 41 | busselton\n",
      "Processing record 42 | tiksi\n",
      "Processing record 43 | port elizabeth\n",
      "Processing record 44 | thompson\n",
      "Processing record 45 | klaksvik\n",
      "Processing record 46 | cravo norte\n",
      "Processing record 47 | tynda\n",
      "Processing record 48 | hilo\n",
      "Processing record 49 | illoqqortoormiut\n",
      "Processing record 50 | georgetown\n",
      "Processing record 51 | christchurch\n",
      "Processing record 52 | chokurdakh\n",
      "Processing record 53 | taltal\n",
      "Processing record 54 | esperance\n",
      "Processing record 55 | ust-nera\n",
      "Processing record 56 | hobart\n",
      "Processing record 57 | erenhot\n",
      "Processing record 58 | hlobyne\n",
      "Processing record 59 | saint george\n",
      "Processing record 60 | avarua\n",
      "Processing record 61 | yellowknife\n",
      "Processing record 62 | baruun-urt\n",
      "Processing record 63 | kulunda\n",
      "Processing record 64 | atuona\n",
      "Processing record 65 | bilaspur\n",
      "Processing record 66 | ontario\n",
      "Processing record 67 | new norfolk\n",
      "Processing record 68 | bluff\n",
      "Processing record 69 | airai\n",
      "Processing record 70 | acarau\n",
      "Processing record 71 | homer\n",
      "Processing record 72 | albany\n",
      "Processing record 73 | grand gaube\n",
      "Processing record 74 | kainantu\n",
      "Processing record 75 | missoula\n",
      "Processing record 76 | shimoda\n",
      "Processing record 77 | viedma\n",
      "Processing record 78 | chuy\n",
      "Processing record 79 | puerto escondido\n",
      "Processing record 80 | taolanaro\n",
      "Processing record 81 | butaritari\n",
      "Processing record 82 | punta arenas\n",
      "Processing record 83 | qaanaaq\n",
      "Processing record 84 | kaitangata\n",
      "Processing record 85 | namibe\n",
      "Processing record 86 | bang saphan\n",
      "Processing record 87 | mareeba\n",
      "Processing record 88 | geraldton\n",
      "Processing record 89 | ruatoria\n",
      "Processing record 90 | asosa\n",
      "Processing record 91 | samusu\n",
      "Processing record 92 | bambous virieux\n",
      "Processing record 93 | mys shmidta\n",
      "Processing record 94 | carnarvon\n",
      "Processing record 95 | castlerea\n",
      "Processing record 96 | nome\n",
      "Processing record 97 | bengkulu\n",
      "Processing record 98 | victoria\n",
      "Processing record 99 | kruisfontein\n",
      "Processing record 100 | grand river south east\n",
      "Processing record 101 | chihuahua\n",
      "Processing record 102 | loiza\n",
      "Processing record 103 | churapcha\n",
      "Processing record 104 | emirdag\n",
      "Processing record 105 | huilong\n",
      "Processing record 106 | sogne\n",
      "Processing record 107 | sisimiut\n",
      "Processing record 108 | bredasdorp\n",
      "Processing record 109 | shirgaon\n",
      "Processing record 110 | upernavik\n",
      "Processing record 111 | mukdahan\n",
      "Processing record 112 | auki\n",
      "Processing record 113 | san miguelito\n",
      "Processing record 114 | santa rosalia\n",
      "Processing record 115 | floro\n",
      "Processing record 116 | mercedes\n",
      "Processing record 117 | hargeysa\n",
      "Processing record 118 | isangel\n",
      "Processing record 119 | paamiut\n",
      "Processing record 120 | ancud\n",
      "Processing record 121 | kindu\n",
      "Processing record 122 | meulaboh\n",
      "Processing record 123 | maragogi\n",
      "Processing record 124 | formoso do araguaia\n",
      "Processing record 125 | ballina\n",
      "Processing record 126 | moerai\n",
      "Processing record 127 | dunedin\n",
      "Processing record 128 | arraial do cabo\n",
      "Processing record 129 | cobh\n",
      "Processing record 130 | paldiski\n",
      "Processing record 131 | amderma\n",
      "Processing record 132 | caravelas\n",
      "Processing record 133 | santa maria\n",
      "Processing record 134 | zhuanghe\n",
      "Processing record 135 | tuktoyaktuk\n",
      "Processing record 136 | ilulissat\n",
      "Processing record 137 | longyearbyen\n",
      "Processing record 138 | tupik\n",
      "Processing record 139 | ostersund\n",
      "Processing record 140 | moose factory\n",
      "Processing record 141 | alice springs\n",
      "Processing record 142 | lebu\n",
      "Processing record 143 | rio grande\n",
      "Processing record 144 | aykhal\n",
      "Processing record 145 | sitka\n",
      "Processing record 146 | wukari\n",
      "Processing record 147 | bundibugyo\n",
      "Processing record 148 | aklavik\n",
      "Processing record 149 | cherskiy\n",
      "Processing record 150 | ponta delgada\n",
      "Processing record 151 | smirnykh\n",
      "Processing record 152 | saleaula\n",
      "Processing record 153 | ishigaki\n",
      "Processing record 154 | brae\n",
      "Processing record 155 | mabaruma\n",
      "Processing record 156 | bubaque\n",
      "Processing record 157 | culaman\n",
      "Processing record 158 | tomatlan\n",
      "Processing record 159 | bur gabo\n",
      "Processing record 160 | barentsburg\n",
      "Processing record 161 | deputatskiy\n",
      "Processing record 162 | kenai\n",
      "Processing record 163 | ternate\n",
      "Processing record 164 | kamenskoye\n",
      "Processing record 165 | nuuk\n",
      "Processing record 166 | ribeira grande\n",
      "Processing record 167 | nizhneyansk\n",
      "Processing record 168 | umzimvubu\n",
      "Processing record 169 | bilibino\n",
      "Processing record 170 | istmina\n",
      "Processing record 171 | vila franca do campo\n",
      "Processing record 172 | arlit\n",
      "Processing record 173 | kahului\n",
      "Processing record 174 | hamilton\n",
      "Processing record 175 | vanderhoof\n",
      "Processing record 176 | abha\n",
      "Processing record 177 | wodonga\n",
      "Processing record 178 | coquimbo\n",
      "Processing record 179 | umba\n",
      "Processing record 180 | zavyalovo\n",
      "Processing record 181 | sanandaj\n",
      "Processing record 182 | bafq\n",
      "Processing record 183 | lagoa\n",
      "Processing record 184 | udachnyy\n",
      "Processing record 185 | machali\n",
      "Processing record 186 | celestun\n",
      "Processing record 187 | sao filipe\n",
      "Processing record 188 | inuvik\n",
      "Processing record 189 | kodiak\n",
      "Processing record 190 | ribeirao branco\n",
      "Processing record 191 | khakhea\n",
      "Processing record 192 | the valley\n",
      "Processing record 193 | kanniyakumari\n",
      "Processing record 194 | cockburn town\n",
      "Processing record 195 | rupert\n",
      "Processing record 196 | thinadhoo\n",
      "Processing record 197 | ceres\n",
      "Processing record 198 | dyakonovo\n",
      "Processing record 199 | novikovo\n",
      "Processing record 200 | lindi\n",
      "Processing record 201 | umm lajj\n",
      "Processing record 202 | buy\n",
      "Processing record 203 | bereda\n",
      "Processing record 204 | maketu\n",
      "Processing record 205 | vaini\n",
      "Processing record 206 | warri\n",
      "Processing record 207 | saint-georges\n",
      "Processing record 208 | lima\n",
      "Processing record 209 | salalah\n",
      "Processing record 210 | fjerritslev\n",
      "Processing record 211 | tabiauea\n",
      "Processing record 212 | tchibanga\n",
      "Processing record 213 | bandar-e lengeh\n",
      "Processing record 214 | namatanai\n",
      "Processing record 215 | shitanjing\n",
      "Processing record 216 | belaya gora\n",
      "Processing record 217 | russell\n",
      "Processing record 218 | mar del plata\n",
      "Processing record 219 | touros\n",
      "Processing record 220 | hithadhoo\n",
      "Processing record 221 | sobolevo\n",
      "Processing record 222 | cururupu\n",
      "Processing record 223 | halalo\n",
      "Processing record 224 | usinsk\n",
      "Processing record 225 | ximei\n",
      "Processing record 226 | constitucion\n",
      "Processing record 227 | jian\n",
      "Processing record 228 | havre-saint-pierre\n",
      "Processing record 229 | svetlyy\n",
      "Processing record 230 | armacao dos buzios\n",
      "Processing record 231 | daru\n",
      "Processing record 232 | tilichiki\n",
      "Processing record 233 | floriano\n",
      "Processing record 234 | kavieng\n",
      "Processing record 235 | kuche\n",
      "Processing record 236 | souillac\n",
      "Processing record 237 | margate\n",
      "Processing record 238 | east london\n",
      "Processing record 239 | marcona\n",
      "Processing record 240 | codrington\n",
      "Processing record 241 | hasaki\n",
      "Processing record 242 | port hardy\n",
      "Processing record 243 | dogondoutchi\n",
      "Processing record 244 | tumannyy\n",
      "Processing record 245 | calvinia\n",
      "Processing record 246 | belushya guba\n",
      "Processing record 247 | pangkalanbuun\n",
      "Processing record 248 | carauari\n",
      "Processing record 249 | mecca\n"
     ]
    },
    {
     "name": "stdout",
     "output_type": "stream",
     "text": [
      "Processing record 250 | castro\n",
      "Processing record 251 | port-gentil\n",
      "Processing record 252 | okhotsk\n",
      "Processing record 253 | wichian buri\n",
      "Processing record 254 | kununurra\n",
      "Processing record 255 | isperih\n",
      "Processing record 256 | fuyu\n",
      "Processing record 257 | kochevo\n",
      "Processing record 258 | tuatapere\n",
      "Processing record 259 | clyde river\n",
      "Processing record 260 | neuquen\n",
      "Processing record 261 | faanui\n",
      "Processing record 262 | jammalamadugu\n",
      "Processing record 263 | swift current\n",
      "Processing record 264 | vardo\n",
      "Processing record 265 | fairbanks\n",
      "Processing record 266 | kapuskasing\n",
      "Processing record 267 | port moresby\n",
      "Processing record 268 | flin flon\n",
      "Processing record 269 | la brea\n",
      "Processing record 270 | wanning\n",
      "Processing record 271 | kawalu\n",
      "Processing record 272 | necochea\n",
      "Processing record 273 | xining\n",
      "Processing record 274 | rumoi\n",
      "Processing record 275 | teya\n",
      "Processing record 276 | zhuhai\n",
      "Processing record 277 | fillan\n",
      "Processing record 278 | karratha\n",
      "Processing record 279 | saint-philippe\n",
      "Processing record 280 | gandai\n",
      "Processing record 281 | lavrentiya\n",
      "Processing record 282 | hearst\n",
      "Processing record 283 | kingaroy\n",
      "Processing record 284 | severo-kurilsk\n",
      "Processing record 285 | broome\n",
      "Processing record 286 | matamoros\n",
      "Processing record 287 | ourossogui\n",
      "Processing record 288 | nyurba\n",
      "Processing record 289 | blytheville\n",
      "Processing record 290 | asau\n",
      "Processing record 291 | san quintin\n",
      "Processing record 292 | hofn\n",
      "Processing record 293 | srednekolymsk\n",
      "Processing record 294 | komsomolskiy\n",
      "Processing record 295 | seoul\n",
      "Processing record 296 | pangody\n",
      "Processing record 297 | attawapiskat\n",
      "Processing record 298 | grindavik\n",
      "Processing record 299 | chadiza\n",
      "Processing record 300 | tateyama\n",
      "Processing record 301 | terrace\n",
      "Processing record 302 | hay river\n",
      "Processing record 303 | palabuhanratu\n",
      "Processing record 304 | te anau\n",
      "Processing record 305 | turukhansk\n",
      "Processing record 306 | brigantine\n",
      "Processing record 307 | beloha\n",
      "Processing record 308 | dali\n",
      "Processing record 309 | ratnagiri\n",
      "Processing record 310 | sao felix do xingu\n",
      "Processing record 311 | vestmanna\n",
      "Processing record 312 | darnah\n",
      "Processing record 313 | kharp\n",
      "Processing record 314 | zhezkazgan\n",
      "Processing record 315 | halifax\n",
      "Processing record 316 | albury\n",
      "Processing record 317 | saskylakh\n",
      "Processing record 318 | whitianga\n",
      "Processing record 319 | nyrob\n",
      "Processing record 320 | jussara\n",
      "Processing record 321 | peniche\n",
      "Processing record 322 | norman wells\n",
      "Processing record 323 | virginia beach\n",
      "Processing record 324 | mabay\n",
      "Processing record 325 | dzialdowo\n",
      "Processing record 326 | kaeo\n",
      "Processing record 327 | mayo\n",
      "Processing record 328 | ust-omchug\n",
      "Processing record 329 | lufilufi\n",
      "Processing record 330 | flinders\n",
      "Processing record 331 | khani\n",
      "Processing record 332 | umm kaddadah\n",
      "Processing record 333 | louisbourg\n",
      "Processing record 334 | kadykchan\n",
      "Processing record 335 | smithers\n",
      "Processing record 336 | avera\n",
      "Processing record 337 | ostrovnoy\n",
      "Processing record 338 | miri\n",
      "Processing record 339 | marawi\n",
      "Processing record 340 | kutum\n",
      "Processing record 341 | bom jesus\n",
      "Processing record 342 | mataram\n",
      "Processing record 343 | dzhebariki-khaya\n",
      "Processing record 344 | santa isabel do rio negro\n",
      "Processing record 345 | welwyn garden city\n",
      "Processing record 346 | manta\n",
      "Processing record 347 | terrak\n",
      "Processing record 348 | sao joao da barra\n",
      "Processing record 349 | luena\n",
      "Processing record 350 | lincoln\n",
      "Processing record 351 | sentyabrskiy\n",
      "Processing record 352 | lorengau\n",
      "Processing record 353 | dwarka\n",
      "Processing record 354 | rayong\n",
      "Processing record 355 | addison\n",
      "Processing record 356 | semporna\n",
      "Processing record 357 | san cristobal\n",
      "Processing record 358 | saldanha\n",
      "Processing record 359 | dakar\n",
      "Processing record 360 | dungarvan\n",
      "Processing record 361 | kostolac\n",
      "Processing record 362 | ahipara\n",
      "Processing record 363 | leningradskiy\n",
      "Processing record 364 | puerto ayora\n",
      "Processing record 365 | nouakchott\n",
      "Processing record 366 | buin\n",
      "Processing record 367 | banff\n",
      "Processing record 368 | dikson\n",
      "Processing record 369 | male\n",
      "Processing record 370 | dingle\n",
      "Processing record 371 | fukue\n",
      "Processing record 372 | moanda\n",
      "Processing record 373 | cukai\n",
      "Processing record 374 | vanimo\n",
      "Processing record 375 | alugan\n",
      "Processing record 376 | polunochnoye\n",
      "Processing record 377 | roebourne\n",
      "Processing record 378 | ondorhaan\n",
      "Processing record 379 | riviere-au-renard\n",
      "Processing record 380 | bristol\n",
      "Processing record 381 | umm durman\n",
      "Processing record 382 | lolua\n",
      "Processing record 383 | weligama\n",
      "Processing record 384 | smidovich\n",
      "Processing record 385 | pacific grove\n",
      "Processing record 386 | richards bay\n",
      "Processing record 387 | goderich\n",
      "Processing record 388 | naze\n",
      "Processing record 389 | kiama\n",
      "Processing record 390 | fortuna\n",
      "Processing record 391 | cabo san lucas\n",
      "Processing record 392 | santa cecilia\n",
      "Processing record 393 | jiangyou\n",
      "Processing record 394 | krasnoselkup\n",
      "Processing record 395 | naxos\n",
      "Processing record 396 | chardara\n",
      "Processing record 397 | gaoua\n",
      "Processing record 398 | los llanos de aridane\n",
      "Processing record 399 | grand-santi\n",
      "Processing record 400 | campina grande do sul\n",
      "Processing record 401 | acajutla\n",
      "Processing record 402 | san andres\n",
      "Processing record 403 | ola\n",
      "Processing record 404 | cayenne\n",
      "Processing record 405 | bardiyah\n",
      "Processing record 406 | coihaique\n",
      "Processing record 407 | cabedelo\n",
      "Processing record 408 | raudeberg\n",
      "Processing record 409 | rungata\n",
      "Processing record 410 | leirvik\n",
      "Processing record 411 | kinshasa\n",
      "Processing record 412 | qostanay\n",
      "Processing record 413 | inongo\n",
      "Processing record 414 | berlevag\n",
      "Processing record 415 | hihifo\n",
      "Processing record 416 | fallon\n",
      "Processing record 417 | port shepstone\n",
      "Processing record 418 | torbay\n",
      "Processing record 419 | zyryanka\n",
      "Processing record 420 | villanueva de la serena\n",
      "Processing record 421 | winnemucca\n",
      "Processing record 422 | dukat\n",
      "Processing record 423 | emerald\n",
      "Processing record 424 | kodar\n",
      "Processing record 425 | husavik\n",
      "Processing record 426 | barrow\n",
      "Processing record 427 | narsaq\n",
      "Processing record 428 | knysna\n",
      "Processing record 429 | oussouye\n",
      "Processing record 430 | mutsamudu\n",
      "Processing record 431 | quatre cocos\n",
      "Processing record 432 | uthal\n",
      "Processing record 433 | ducheng\n",
      "Processing record 434 | abnub\n",
      "Processing record 435 | ojinaga\n",
      "Processing record 436 | aranda de duero\n",
      "Processing record 437 | ulaangom\n",
      "Processing record 438 | malwan\n",
      "Processing record 439 | kuito\n",
      "Processing record 440 | rawannawi\n",
      "Processing record 441 | badiraguato\n",
      "Processing record 442 | scottsbluff\n",
      "Processing record 443 | saint-augustin\n",
      "Processing record 444 | ylivieska\n",
      "Processing record 445 | sechura\n",
      "Processing record 446 | serenje\n",
      "Processing record 447 | camacupa\n",
      "Processing record 448 | polyarnyye zori\n",
      "Processing record 449 | kapoeta\n",
      "Processing record 450 | san carlos\n",
      "Processing record 451 | tshela\n",
      "Processing record 452 | anadyr\n",
      "Processing record 453 | omsukchan\n",
      "Processing record 454 | drumheller\n",
      "Processing record 455 | imeni tsyurupy\n",
      "Processing record 456 | sataua\n",
      "Processing record 457 | honiara\n",
      "Processing record 458 | kazalinsk\n",
      "Processing record 459 | cascais\n",
      "Processing record 460 | tabarqah\n",
      "Processing record 461 | mgandu\n",
      "Processing record 462 | bandarbeyla\n",
      "Processing record 463 | puerto leguizamo\n",
      "Processing record 464 | genhe\n",
      "Processing record 465 | biak\n",
      "Processing record 466 | viligili\n",
      "Processing record 467 | eydhafushi\n",
      "Processing record 468 | palmer\n",
      "Processing record 469 | iqaluit\n",
      "Processing record 470 | ayan\n",
      "Processing record 471 | zachagansk\n",
      "Processing record 472 | redcar\n",
      "Processing record 473 | sydney\n",
      "Processing record 474 | vidim\n",
      "Processing record 475 | sinnar\n",
      "Processing record 476 | cao bang\n",
      "Processing record 477 | college\n",
      "Processing record 478 | rio claro\n",
      "Processing record 479 | araceli\n",
      "Processing record 480 | linqu\n",
      "Processing record 481 | candelaria\n",
      "Processing record 482 | clarksville\n",
      "Processing record 483 | kyshtovka\n",
      "Processing record 484 | gela\n",
      "Processing record 485 | kargapolye\n",
      "Processing record 486 | balikpapan\n",
      "Processing record 487 | tsihombe\n",
      "Processing record 488 | alofi\n",
      "Processing record 489 | kampot\n",
      "Processing record 490 | mount isa\n",
      "Processing record 491 | poya\n",
      "Processing record 492 | pevek\n",
      "Processing record 493 | bezhetsk\n",
      "Processing record 494 | willowmore\n",
      "Processing record 495 | san borja\n"
     ]
    },
    {
     "name": "stdout",
     "output_type": "stream",
     "text": [
      "Processing record 496 | pudozh\n",
      "Processing record 497 | tadine\n",
      "Processing record 498 | kabare\n",
      "Processing record 499 | saint-pierre\n",
      "Processing record 500 | mawlaik\n",
      "Processing record 501 | mehamn\n",
      "Processing record 502 | santa cruz\n",
      "Processing record 503 | mahebourg\n",
      "Processing record 504 | paita\n",
      "Processing record 505 | vao\n",
      "Processing record 506 | noyabrsk\n",
      "Processing record 507 | suoyarvi\n",
      "Processing record 508 | sorland\n",
      "Processing record 509 | washington\n",
      "Processing record 510 | boende\n",
      "Processing record 511 | chute-aux-outardes\n",
      "Processing record 512 | mold\n",
      "Processing record 513 | wangaratta\n",
      "Processing record 514 | deloraine\n",
      "Processing record 515 | hambantota\n",
      "Processing record 516 | vanavara\n",
      "Processing record 517 | aksarka\n",
      "Processing record 518 | lata\n",
      "Processing record 519 | tura\n",
      "Processing record 520 | villiers\n",
      "Processing record 521 | izumo\n",
      "Processing record 522 | santa rosa\n",
      "Processing record 523 | sambava\n",
      "Processing record 524 | lerwick\n",
      "Processing record 525 | port hawkesbury\n",
      "Processing record 526 | rawson\n",
      "Processing record 527 | hauterive\n",
      "Processing record 528 | zhoucheng\n",
      "Processing record 529 | antofagasta\n",
      "Processing record 530 | nakamura\n",
      "Processing record 531 | umea\n",
      "Processing record 532 | waipawa\n",
      "Processing record 533 | cheyenne\n",
      "Processing record 534 | batagay\n",
      "Processing record 535 | manakara\n",
      "Processing record 536 | mahibadhoo\n",
      "Processing record 537 | maningrida\n",
      "Processing record 538 | white settlement\n",
      "Processing record 539 | lalomanu\n",
      "Processing record 540 | svetlogorsk\n",
      "Processing record 541 | bagdarin\n",
      "Processing record 542 | pravda\n",
      "Processing record 543 | borogontsy\n",
      "Processing record 544 | alyangula\n",
      "Processing record 545 | puerto maldonado\n",
      "Processing record 546 | bathsheba\n",
      "Processing record 547 | tromso\n",
      "Processing record 548 | montepuez\n",
      "Processing record 549 | karaton\n",
      "Processing record 550 | saint-francois\n",
      "Processing record 551 | tasbuget\n",
      "Processing record 552 | maceio\n",
      "Processing record 553 | semme\n",
      "Processing record 554 | martyush\n",
      "Processing record 555 | lewistown\n",
      "Processing record 556 | korla\n",
      "Processing record 557 | pisco\n",
      "Processing record 558 | moron\n",
      "Processing record 559 | coxim\n",
      "Processing record 560 | zhigansk\n",
      "Processing record 561 | calama\n",
      "Processing record 562 | harnosand\n",
      "Processing record 563 | farmington\n",
      "Processing record 564 | teguise\n",
      "Processing record 565 | netivot\n",
      "Processing record 566 | tshane\n",
      "Processing record 567 | kijang\n",
      "Processing record 568 | petropavlovsk-kamchatskiy\n",
      "Processing record 569 | karla\n",
      "Processing record 570 | zvecka\n",
      "Processing record 571 | kyabe\n",
      "Processing record 572 | huangmei\n",
      "Processing record 573 | rocha\n",
      "Processing record 574 | adrar\n",
      "Processing record 575 | porosozero\n",
      "Processing record 576 | riyadh\n",
      "Processing record 577 | cidreira\n",
      "Processing record 578 | pontal do parana\n",
      "Processing record 579 | nemuro\n",
      "Processing record 580 | campo grande\n",
      "Processing record 581 | mahajanga\n",
      "Processing record 582 | korcula\n",
      "Processing record 583 | arrah\n",
      "Processing record 584 | mandalgovi\n",
      "Processing record 585 | keningau\n",
      "Processing record 586 | nanortalik\n",
      "Processing record 587 | vuktyl\n",
      "Processing record 588 | beni suef\n",
      "Processing record 589 | mamou\n",
      "Processing record 590 | coari\n",
      "Processing record 591 | hualmay\n",
      "Processing record 592 | chatellerault\n",
      "Processing record 593 | hovd\n",
      "Processing record 594 | haines junction\n",
      "Processing record 595 | olga\n",
      "Processing record 596 | eskasem\n",
      "Processing record 597 | krasnyy kut\n",
      "Processing record 598 | gigmoto\n",
      "Processing record 599 | ketchikan\n",
      "Processing record 600 | srandakan\n",
      "Processing record 601 | saint anthony\n",
      "Processing record 602 | soyo\n",
      "Processing record 603 | sungai siput utara\n",
      "Processing record 604 | pucallpa\n",
      "Processing record 605 | palu\n",
      "Processing record 606 | cove\n",
      "Processing record 607 | newport\n",
      "Processing record 608 | asyut\n",
      "Processing record 609 | waynesboro\n",
      "Processing record 610 | oyama\n",
      "Processing record 611 | varhaug\n",
      "Processing record 612 | mizpe ramon\n",
      "Processing record 613 | lesozavodsk\n",
      "Processing record 614 | nouadhibou\n"
     ]
    }
   ],
   "source": [
    "# Set base url for api calls\n",
    "base_url = 'http://api.openweathermap.org/data/2.5/weather?q='\n",
    "\n",
    "# Generate empty lists for response values\n",
    "date = []\n",
    "\n",
    "country = []\n",
    "\n",
    "apilats = []\n",
    "\n",
    "apilngs = []\n",
    "\n",
    "ktemp = []\n",
    "\n",
    "cloudiness = []\n",
    "\n",
    "humidity = []\n",
    "\n",
    "windspeed = []\n",
    "\n",
    "\n",
    "\n",
    "# Initialize city number\n",
    "citynumber = 1 \n",
    "\n",
    "# Print the statement indicating the start of processing\n",
    "print(\"Retrieving Data\")\n",
    "\n",
    "# Loop through each city in the list\n",
    "for city in cities:\n",
    "    \n",
    "    print(f\"Processing record {str(citynumber)} | {city}\")\n",
    "    \n",
    "    url = base_url + city + '&appid=' + weather_api_key\n",
    "    response = requests.get(url).json()\n",
    "    \n",
    "    try:\n",
    "        date.append(response['dt'])\n",
    "        country.append(response['sys']['country'])\n",
    "        apilats.append(response['coord']['lat'])\n",
    "        apilngs.append(response['coord']['lon'])\n",
    "        ktemp.append(response['main']['temp_max'])\n",
    "        cloudiness.append(response['clouds']['all'])\n",
    "        humidity.append(response['main']['humidity'])\n",
    "        windspeed.append(response['wind']['speed'])\n",
    "           \n",
    "    except KeyError:\n",
    "        date.append(None)\n",
    "        country.append(None)\n",
    "        apilats.append(None)\n",
    "        apilngs.append(None)\n",
    "        ktemp.append(None)\n",
    "        cloudiness.append(None)\n",
    "        humidity.append(None)\n",
    "        \n",
    "    citynumber += 1\n",
    "\n",
    "    "
   ]
  },
  {
   "cell_type": "markdown",
   "metadata": {},
   "source": [
    "### Convert Raw Data to DataFrame\n",
    "* Export the city data into a .csv.\n",
    "* Display the DataFrame"
   ]
  },
  {
   "cell_type": "code",
   "execution_count": 6,
   "metadata": {},
   "outputs": [
    {
     "data": {
      "text/html": [
       "<div>\n",
       "<style scoped>\n",
       "    .dataframe tbody tr th:only-of-type {\n",
       "        vertical-align: middle;\n",
       "    }\n",
       "\n",
       "    .dataframe tbody tr th {\n",
       "        vertical-align: top;\n",
       "    }\n",
       "\n",
       "    .dataframe thead th {\n",
       "        text-align: right;\n",
       "    }\n",
       "</style>\n",
       "<table border=\"1\" class=\"dataframe\">\n",
       "  <thead>\n",
       "    <tr style=\"text-align: right;\">\n",
       "      <th></th>\n",
       "      <th>Date</th>\n",
       "      <th>Country</th>\n",
       "      <th>City</th>\n",
       "      <th>Lat</th>\n",
       "      <th>Lng</th>\n",
       "      <th>Max Temp</th>\n",
       "      <th>Cloudiness</th>\n",
       "      <th>Humidity</th>\n",
       "    </tr>\n",
       "  </thead>\n",
       "  <tbody>\n",
       "    <tr>\n",
       "      <th>0</th>\n",
       "      <td>1.630077e+09</td>\n",
       "      <td>PH</td>\n",
       "      <td>puerto princesa</td>\n",
       "      <td>9.7392</td>\n",
       "      <td>118.7353</td>\n",
       "      <td>46.66</td>\n",
       "      <td>76.0</td>\n",
       "      <td>83.0</td>\n",
       "    </tr>\n",
       "    <tr>\n",
       "      <th>1</th>\n",
       "      <td>1.630077e+09</td>\n",
       "      <td>ZA</td>\n",
       "      <td>port alfred</td>\n",
       "      <td>-33.5906</td>\n",
       "      <td>26.8910</td>\n",
       "      <td>39.69</td>\n",
       "      <td>98.0</td>\n",
       "      <td>71.0</td>\n",
       "    </tr>\n",
       "    <tr>\n",
       "      <th>2</th>\n",
       "      <td>1.630077e+09</td>\n",
       "      <td>US</td>\n",
       "      <td>bethel</td>\n",
       "      <td>41.3712</td>\n",
       "      <td>-73.4140</td>\n",
       "      <td>49.99</td>\n",
       "      <td>1.0</td>\n",
       "      <td>73.0</td>\n",
       "    </tr>\n",
       "    <tr>\n",
       "      <th>3</th>\n",
       "      <td>1.630077e+09</td>\n",
       "      <td>RU</td>\n",
       "      <td>provideniya</td>\n",
       "      <td>64.3833</td>\n",
       "      <td>-173.3000</td>\n",
       "      <td>34.85</td>\n",
       "      <td>100.0</td>\n",
       "      <td>82.0</td>\n",
       "    </tr>\n",
       "    <tr>\n",
       "      <th>4</th>\n",
       "      <td>1.630077e+09</td>\n",
       "      <td>NZ</td>\n",
       "      <td>mataura</td>\n",
       "      <td>-46.1927</td>\n",
       "      <td>168.8643</td>\n",
       "      <td>35.54</td>\n",
       "      <td>100.0</td>\n",
       "      <td>98.0</td>\n",
       "    </tr>\n",
       "    <tr>\n",
       "      <th>...</th>\n",
       "      <td>...</td>\n",
       "      <td>...</td>\n",
       "      <td>...</td>\n",
       "      <td>...</td>\n",
       "      <td>...</td>\n",
       "      <td>...</td>\n",
       "      <td>...</td>\n",
       "      <td>...</td>\n",
       "    </tr>\n",
       "    <tr>\n",
       "      <th>609</th>\n",
       "      <td>1.630077e+09</td>\n",
       "      <td>JP</td>\n",
       "      <td>oyama</td>\n",
       "      <td>36.3000</td>\n",
       "      <td>139.8000</td>\n",
       "      <td>48.68</td>\n",
       "      <td>99.0</td>\n",
       "      <td>74.0</td>\n",
       "    </tr>\n",
       "    <tr>\n",
       "      <th>610</th>\n",
       "      <td>1.630077e+09</td>\n",
       "      <td>NO</td>\n",
       "      <td>varhaug</td>\n",
       "      <td>58.6147</td>\n",
       "      <td>5.6457</td>\n",
       "      <td>43.68</td>\n",
       "      <td>87.0</td>\n",
       "      <td>61.0</td>\n",
       "    </tr>\n",
       "    <tr>\n",
       "      <th>611</th>\n",
       "      <td>NaN</td>\n",
       "      <td>None</td>\n",
       "      <td>mizpe ramon</td>\n",
       "      <td>NaN</td>\n",
       "      <td>NaN</td>\n",
       "      <td>NaN</td>\n",
       "      <td>NaN</td>\n",
       "      <td>NaN</td>\n",
       "    </tr>\n",
       "    <tr>\n",
       "      <th>612</th>\n",
       "      <td>1.630077e+09</td>\n",
       "      <td>RU</td>\n",
       "      <td>lesozavodsk</td>\n",
       "      <td>45.4794</td>\n",
       "      <td>133.4244</td>\n",
       "      <td>41.03</td>\n",
       "      <td>5.0</td>\n",
       "      <td>89.0</td>\n",
       "    </tr>\n",
       "    <tr>\n",
       "      <th>613</th>\n",
       "      <td>1.630077e+09</td>\n",
       "      <td>MR</td>\n",
       "      <td>nouadhibou</td>\n",
       "      <td>20.9310</td>\n",
       "      <td>-17.0347</td>\n",
       "      <td>45.33</td>\n",
       "      <td>8.0</td>\n",
       "      <td>73.0</td>\n",
       "    </tr>\n",
       "  </tbody>\n",
       "</table>\n",
       "<p>614 rows × 8 columns</p>\n",
       "</div>"
      ],
      "text/plain": [
       "             Date Country             City      Lat       Lng  Max Temp  \\\n",
       "0    1.630077e+09      PH  puerto princesa   9.7392  118.7353     46.66   \n",
       "1    1.630077e+09      ZA      port alfred -33.5906   26.8910     39.69   \n",
       "2    1.630077e+09      US           bethel  41.3712  -73.4140     49.99   \n",
       "3    1.630077e+09      RU      provideniya  64.3833 -173.3000     34.85   \n",
       "4    1.630077e+09      NZ          mataura -46.1927  168.8643     35.54   \n",
       "..            ...     ...              ...      ...       ...       ...   \n",
       "609  1.630077e+09      JP            oyama  36.3000  139.8000     48.68   \n",
       "610  1.630077e+09      NO          varhaug  58.6147    5.6457     43.68   \n",
       "611           NaN    None      mizpe ramon      NaN       NaN       NaN   \n",
       "612  1.630077e+09      RU      lesozavodsk  45.4794  133.4244     41.03   \n",
       "613  1.630077e+09      MR       nouadhibou  20.9310  -17.0347     45.33   \n",
       "\n",
       "     Cloudiness  Humidity  \n",
       "0          76.0      83.0  \n",
       "1          98.0      71.0  \n",
       "2           1.0      73.0  \n",
       "3         100.0      82.0  \n",
       "4         100.0      98.0  \n",
       "..          ...       ...  \n",
       "609        99.0      74.0  \n",
       "610        87.0      61.0  \n",
       "611         NaN       NaN  \n",
       "612         5.0      89.0  \n",
       "613         8.0      73.0  \n",
       "\n",
       "[614 rows x 8 columns]"
      ]
     },
     "execution_count": 6,
     "metadata": {},
     "output_type": "execute_result"
    }
   ],
   "source": [
    "\n",
    "# convert kelvin temperatures to fahrenheit\n",
    "ftemp = []\n",
    "\n",
    "# 'na' values throw errors, feed 'na' into the new list\n",
    "for temp in ktemp:\n",
    "    \n",
    "    try:\n",
    "        current = (temp - 273.15) * (5/9) + 32\n",
    "        ftemp.append(round(current, 2))\n",
    "    except TypeError:\n",
    "        ftemp.append(None)\n",
    "\n",
    "df = pd.DataFrame({'Date': date,\n",
    "                         'Country': country,\n",
    "                         'City': cities,\n",
    "                         'Lat': apilats,\n",
    "                         'Lng': apilngs,\n",
    "                         'Max Temp': ftemp,\n",
    "                         'Cloudiness': cloudiness,\n",
    "                         'Humidity': humidity})\n",
    "\n",
    "df"
   ]
  },
  {
   "cell_type": "code",
   "execution_count": 7,
   "metadata": {},
   "outputs": [
    {
     "data": {
      "text/html": [
       "<div>\n",
       "<style scoped>\n",
       "    .dataframe tbody tr th:only-of-type {\n",
       "        vertical-align: middle;\n",
       "    }\n",
       "\n",
       "    .dataframe tbody tr th {\n",
       "        vertical-align: top;\n",
       "    }\n",
       "\n",
       "    .dataframe thead th {\n",
       "        text-align: right;\n",
       "    }\n",
       "</style>\n",
       "<table border=\"1\" class=\"dataframe\">\n",
       "  <thead>\n",
       "    <tr style=\"text-align: right;\">\n",
       "      <th></th>\n",
       "      <th>Date</th>\n",
       "      <th>Lat</th>\n",
       "      <th>Lng</th>\n",
       "      <th>Max Temp</th>\n",
       "      <th>Cloudiness</th>\n",
       "      <th>Humidity</th>\n",
       "    </tr>\n",
       "  </thead>\n",
       "  <tbody>\n",
       "    <tr>\n",
       "      <th>count</th>\n",
       "      <td>5.660000e+02</td>\n",
       "      <td>566.000000</td>\n",
       "      <td>566.000000</td>\n",
       "      <td>566.000000</td>\n",
       "      <td>566.000000</td>\n",
       "      <td>566.000000</td>\n",
       "    </tr>\n",
       "    <tr>\n",
       "      <th>mean</th>\n",
       "      <td>1.630077e+09</td>\n",
       "      <td>20.873621</td>\n",
       "      <td>22.493351</td>\n",
       "      <td>43.309823</td>\n",
       "      <td>58.171378</td>\n",
       "      <td>69.128975</td>\n",
       "    </tr>\n",
       "    <tr>\n",
       "      <th>std</th>\n",
       "      <td>8.536502e+01</td>\n",
       "      <td>34.316401</td>\n",
       "      <td>91.697349</td>\n",
       "      <td>4.829987</td>\n",
       "      <td>38.346311</td>\n",
       "      <td>21.435542</td>\n",
       "    </tr>\n",
       "    <tr>\n",
       "      <th>min</th>\n",
       "      <td>1.630076e+09</td>\n",
       "      <td>-54.800000</td>\n",
       "      <td>-175.200000</td>\n",
       "      <td>32.560000</td>\n",
       "      <td>0.000000</td>\n",
       "      <td>6.000000</td>\n",
       "    </tr>\n",
       "    <tr>\n",
       "      <th>25%</th>\n",
       "      <td>1.630077e+09</td>\n",
       "      <td>-7.281550</td>\n",
       "      <td>-58.715150</td>\n",
       "      <td>39.577500</td>\n",
       "      <td>20.000000</td>\n",
       "      <td>57.250000</td>\n",
       "    </tr>\n",
       "    <tr>\n",
       "      <th>50%</th>\n",
       "      <td>1.630077e+09</td>\n",
       "      <td>25.194000</td>\n",
       "      <td>24.608350</td>\n",
       "      <td>43.830000</td>\n",
       "      <td>75.000000</td>\n",
       "      <td>73.000000</td>\n",
       "    </tr>\n",
       "    <tr>\n",
       "      <th>75%</th>\n",
       "      <td>1.630077e+09</td>\n",
       "      <td>51.170575</td>\n",
       "      <td>110.360175</td>\n",
       "      <td>47.087500</td>\n",
       "      <td>97.000000</td>\n",
       "      <td>86.000000</td>\n",
       "    </tr>\n",
       "    <tr>\n",
       "      <th>max</th>\n",
       "      <td>1.630077e+09</td>\n",
       "      <td>78.218600</td>\n",
       "      <td>178.416700</td>\n",
       "      <td>54.520000</td>\n",
       "      <td>100.000000</td>\n",
       "      <td>100.000000</td>\n",
       "    </tr>\n",
       "  </tbody>\n",
       "</table>\n",
       "</div>"
      ],
      "text/plain": [
       "               Date         Lat         Lng    Max Temp  Cloudiness  \\\n",
       "count  5.660000e+02  566.000000  566.000000  566.000000  566.000000   \n",
       "mean   1.630077e+09   20.873621   22.493351   43.309823   58.171378   \n",
       "std    8.536502e+01   34.316401   91.697349    4.829987   38.346311   \n",
       "min    1.630076e+09  -54.800000 -175.200000   32.560000    0.000000   \n",
       "25%    1.630077e+09   -7.281550  -58.715150   39.577500   20.000000   \n",
       "50%    1.630077e+09   25.194000   24.608350   43.830000   75.000000   \n",
       "75%    1.630077e+09   51.170575  110.360175   47.087500   97.000000   \n",
       "max    1.630077e+09   78.218600  178.416700   54.520000  100.000000   \n",
       "\n",
       "         Humidity  \n",
       "count  566.000000  \n",
       "mean    69.128975  \n",
       "std     21.435542  \n",
       "min      6.000000  \n",
       "25%     57.250000  \n",
       "50%     73.000000  \n",
       "75%     86.000000  \n",
       "max    100.000000  "
      ]
     },
     "execution_count": 7,
     "metadata": {},
     "output_type": "execute_result"
    }
   ],
   "source": [
    "df.describe()"
   ]
  },
  {
   "cell_type": "markdown",
   "metadata": {},
   "source": [
    "## Inspect the data and remove the cities where the humidity > 100%.\n",
    "----\n",
    "Skip this step if there are no cities that have humidity > 100%. "
   ]
  },
  {
   "cell_type": "code",
   "execution_count": 8,
   "metadata": {},
   "outputs": [
    {
     "name": "stdout",
     "output_type": "stream",
     "text": [
      "None\n"
     ]
    }
   ],
   "source": [
    "print ('None')"
   ]
  },
  {
   "cell_type": "code",
   "execution_count": 9,
   "metadata": {
    "scrolled": true
   },
   "outputs": [
    {
     "name": "stdout",
     "output_type": "stream",
     "text": [
      "None\n"
     ]
    }
   ],
   "source": [
    "#  Get the indices of cities that have humidity over 100%.\n",
    "print ('None')"
   ]
  },
  {
   "cell_type": "code",
   "execution_count": 10,
   "metadata": {},
   "outputs": [
    {
     "name": "stdout",
     "output_type": "stream",
     "text": [
      "none\n"
     ]
    }
   ],
   "source": [
    "print ('none')"
   ]
  },
  {
   "cell_type": "code",
   "execution_count": null,
   "metadata": {},
   "outputs": [],
   "source": []
  },
  {
   "cell_type": "markdown",
   "metadata": {},
   "source": [
    "## Plotting the Data\n",
    "* Use proper labeling of the plots using plot titles (including date of analysis) and axes labels.\n",
    "* Save the plotted figures as .pngs."
   ]
  },
  {
   "cell_type": "markdown",
   "metadata": {},
   "source": [
    "## Latitude vs. Temperature Plot"
   ]
  },
  {
   "cell_type": "code",
   "execution_count": 39,
   "metadata": {
    "scrolled": true
   },
   "outputs": [
    {
     "data": {
      "image/png": "[encoded data removed]",
      "text/plain": [
       "<Figure size 432x288 with 1 Axes>"
      ]
     },
     "metadata": {
      "needs_background": "light"
     },
     "output_type": "display_data"
    }
   ],
   "source": [
    "# etablish plot figure\n",
    "# Use pandas plot function to generate scatter plot with proper labeling\n",
    "df.plot.scatter(x='Lat', y='Max Temp', xlabel='Latitude', ylabel='Temperature', \n",
    "                       title='Latitude vs. Temperature')\n",
    "\n",
    "# add gridlines\n",
    "plt.grid()"
   ]
  },
  {
   "cell_type": "markdown",
   "metadata": {},
   "source": [
    "## Latitude vs. Humidity Plot"
   ]
  },
  {
   "cell_type": "code",
   "execution_count": 40,
   "metadata": {},
   "outputs": [
    {
     "data": {
      "image/png": "[encoded data removed]",
      "text/plain": [
       "<Figure size 432x288 with 1 Axes>"
      ]
     },
     "metadata": {
      "needs_background": "light"
     },
     "output_type": "display_data"
    }
   ],
   "source": [
    "# etablish plot figure\n",
    "# Use pandas plot function to generate scatter plot with proper labeling\n",
    "df.plot.scatter(x='Lat', y='Humidity', xlabel='Latitude', ylabel='Humidity', \n",
    "                       title='Latitude vs. Humidity')\n",
    "\n",
    "# add gridlines\n",
    "plt.grid()"
   ]
  },
  {
   "cell_type": "markdown",
   "metadata": {},
   "source": [
    "## Latitude vs. Cloudiness Plot"
   ]
  },
  {
   "cell_type": "code",
   "execution_count": 41,
   "metadata": {},
   "outputs": [
    {
     "data": {
      "image/png": "[encoded data removed]",
      "text/plain": [
       "<Figure size 432x288 with 1 Axes>"
      ]
     },
     "metadata": {
      "needs_background": "light"
     },
     "output_type": "display_data"
    }
   ],
   "source": [
    "# etablish plot figure\n",
    "# Use pandas plot function to generate scatter plot with proper labeling\n",
    "df.plot.scatter(x='Lat', y='Cloudiness', xlabel='Latitude', ylabel='Humidity', \n",
    "                       title='Latitude vs. Cloudiness')\n",
    "\n",
    "# add gridlines\n",
    "plt.grid()"
   ]
  },
  {
   "cell_type": "markdown",
   "metadata": {},
   "source": [
    "## Latitude vs. Wind Speed Plot"
   ]
  },
  {
   "cell_type": "code",
   "execution_count": 42,
   "metadata": {},
   "outputs": [
    {
     "data": {
      "text/plain": [
       "<Figure size 432x288 with 0 Axes>"
      ]
     },
     "metadata": {},
     "output_type": "display_data"
    },
    {
     "data": {
      "image/png": "[encoded data removed]",
      "text/plain": [
       "<Figure size 432x288 with 1 Axes>"
      ]
     },
     "metadata": {
      "needs_background": "light"
     },
     "output_type": "display_data"
    }
   ],
   "source": [
    "# etablish plot figure\n",
    "plt.figure()\n",
    "\n",
    "# Use pandas plot function to generate scatter plot with proper labeling\n",
    "df.plot.scatter(x='Lat', y='Lng', xlabel='Latitude', ylabel='Wind Speed', \n",
    "                       title='Latitude vs. Windspeed')\n",
    "\n",
    "# add gridlines\n",
    "plt.grid()"
   ]
  },
  {
   "cell_type": "markdown",
   "metadata": {},
   "source": [
    "## Linear Regression"
   ]
  },
  {
   "cell_type": "code",
   "execution_count": 43,
   "metadata": {},
   "outputs": [
    {
     "name": "stdout",
     "output_type": "stream",
     "text": [
      "0.0487\n",
      "-0.1934\n"
     ]
    }
   ],
   "source": [
    "# Pull data for cities above and below the equator into separate dataframes\n",
    "north_df = df.loc[df['Lat'] >= 0]\n",
    "south_df = df.loc[df['Lat'] < 0]\n",
    "# print minimum latitude for northern cities and maximum latitude for southern cities to ensure data fits parameters\n",
    "print (north_df['Lat'].min())\n",
    "print (south_df['Lat'].max())"
   ]
  },
  {
   "cell_type": "markdown",
   "metadata": {},
   "source": [
    "####  Northern Hemisphere - Max Temp vs. Latitude Linear Regression"
   ]
  },
  {
   "cell_type": "code",
   "execution_count": 49,
   "metadata": {},
   "outputs": [
    {
     "name": "stdout",
     "output_type": "stream",
     "text": [
      "{-0.7795352145849006}\n"
     ]
    },
    {
     "data": {
      "text/plain": [
       "Text(0, 0.5, 'Temperature')"
      ]
     },
     "execution_count": 49,
     "metadata": {},
     "output_type": "execute_result"
    },
    {
     "data": {
      "image/png": "[encoded data removed]",
      "text/plain": [
       "<Figure size 432x288 with 1 Axes>"
      ]
     },
     "metadata": {
      "needs_background": "light"
     },
     "output_type": "display_data"
    }
   ],
   "source": [
    "# pull pertinent values into lists to make regression simpler\n",
    "x_value = north_df['Lat'].tolist()\n",
    "y_value = north_df['Max Temp'].tolist()\n",
    "# use scipy.stats.linregress to determine the regression parameters\n",
    "(slope, intercept, rvalue, pvalue, stderr) = linregress(x_value, y_value)\n",
    "# generate the regression values using the slope-intercept equation\n",
    "regress = [value * slope + intercept for value in x_value]\n",
    "# generate the string for regression equation\n",
    "string = \"y = \" + str(round(slope,2)) + \"x + \" + str(round(intercept,2))\n",
    "# print the r-value of the regression\n",
    "print({rvalue})\n",
    "\n",
    "# plot the values and the regression\n",
    "plt.scatter(x_value,y_value)\n",
    "plt.plot(x_value,regress,\"r-\")\n",
    "# add proper plot labels\n",
    "plt.title('Latitude vs.Temperature')\n",
    "plt.xlabel('Latitude')\n",
    "plt.ylabel('Temperature')"
   ]
  },
  {
   "cell_type": "markdown",
   "metadata": {},
   "source": [
    "####  Southern Hemisphere - Max Temp vs. Latitude Linear Regression"
   ]
  },
  {
   "cell_type": "code",
   "execution_count": 50,
   "metadata": {},
   "outputs": [
    {
     "name": "stdout",
     "output_type": "stream",
     "text": [
      "{0.8359007798118773}\n"
     ]
    },
    {
     "data": {
      "text/plain": [
       "Text(0, 0.5, 'Temperature')"
      ]
     },
     "execution_count": 50,
     "metadata": {},
     "output_type": "execute_result"
    },
    {
     "data": {
      "image/png": "[encoded data removed]",
      "text/plain": [
       "<Figure size 432x288 with 1 Axes>"
      ]
     },
     "metadata": {
      "needs_background": "light"
     },
     "output_type": "display_data"
    }
   ],
   "source": [
    "# pull pertinent values into lists to make regression simpler\n",
    "x_value = south_df['Lat'].tolist()\n",
    "y_value = south_df['Max Temp'].tolist()\n",
    "# use scipy.stats.linregress to determine the regression parameters\n",
    "(slope, intercept, rvalue, pvalue, stderr) = linregress(x_value, y_value)\n",
    "# generate the regression values using the slope-intercept equation\n",
    "regress = [value * slope + intercept for value in x_value]\n",
    "# generate the string for regression equation\n",
    "string = \"y = \" + str(round(slope,2)) + \"x + \" + str(round(intercept,2))\n",
    "# print the r-value of the regression\n",
    "print({rvalue})\n",
    "\n",
    "# plot the values and the regression\n",
    "plt.scatter(x_value,y_value)\n",
    "plt.plot(x_value,regress,\"r-\")\n",
    "# add proper plot labels\n",
    "plt.title('Latitude vs.Temperature')\n",
    "plt.xlabel('Latitude')\n",
    "plt.ylabel('Temperature')"
   ]
  },
  {
   "cell_type": "markdown",
   "metadata": {},
   "source": [
    "####  Northern Hemisphere - Humidity (%) vs. Latitude Linear Regression"
   ]
  },
  {
   "cell_type": "code",
   "execution_count": 51,
   "metadata": {},
   "outputs": [
    {
     "name": "stdout",
     "output_type": "stream",
     "text": [
      "{0.0777949499639402}\n"
     ]
    },
    {
     "data": {
      "text/plain": [
       "Text(0, 0.5, 'Humidity')"
      ]
     },
     "execution_count": 51,
     "metadata": {},
     "output_type": "execute_result"
    },
    {
     "data": {
      "image/png": "[encoded data removed]",
      "text/plain": [
       "<Figure size 432x288 with 1 Axes>"
      ]
     },
     "metadata": {
      "needs_background": "light"
     },
     "output_type": "display_data"
    }
   ],
   "source": [
    "# pull pertinent values into lists to make regression simpler\n",
    "x_value = north_df['Lat'].tolist()\n",
    "y_value = north_df['Humidity'].tolist()\n",
    "# use scipy.stats.linregress to determine the regression parameters\n",
    "(slope, intercept, rvalue, pvalue, stderr) = linregress(x_value, y_value)\n",
    "# generate the regression values using the slope-intercept equation\n",
    "regress = [value * slope + intercept for value in x_value]\n",
    "# generate the string for regression equation\n",
    "string = \"y = \" + str(round(slope,2)) + \"x + \" + str(round(intercept,2))\n",
    "# print the r-value of the regression\n",
    "print({rvalue})\n",
    "\n",
    "# plot the values and the regression\n",
    "plt.scatter(x_value,y_value)\n",
    "plt.plot(x_value,regress,\"r-\")\n",
    "# add proper plot labels\n",
    "plt.title('Latitude vs.Humidity')\n",
    "plt.xlabel('Latitude')\n",
    "plt.ylabel('Humidity')"
   ]
  },
  {
   "cell_type": "markdown",
   "metadata": {},
   "source": [
    "####  Southern Hemisphere - Humidity (%) vs. Latitude Linear Regression"
   ]
  },
  {
   "cell_type": "code",
   "execution_count": 52,
   "metadata": {},
   "outputs": [
    {
     "name": "stdout",
     "output_type": "stream",
     "text": [
      "{-0.12705763343300075}\n"
     ]
    },
    {
     "data": {
      "text/plain": [
       "Text(0, 0.5, 'Humidity')"
      ]
     },
     "execution_count": 52,
     "metadata": {},
     "output_type": "execute_result"
    },
    {
     "data": {
      "image/png": "[encoded data removed]",
      "text/plain": [
       "<Figure size 432x288 with 1 Axes>"
      ]
     },
     "metadata": {
      "needs_background": "light"
     },
     "output_type": "display_data"
    }
   ],
   "source": [
    "# pull pertinent values into lists to make regression simpler\n",
    "x_value = south_df['Lat'].tolist()\n",
    "y_value = south_df['Humidity'].tolist()\n",
    "# use scipy.stats.linregress to determine the regression parameters\n",
    "(slope, intercept, rvalue, pvalue, stderr) = linregress(x_value, y_value)\n",
    "# generate the regression values using the slope-intercept equation\n",
    "regress = [value * slope + intercept for value in x_value]\n",
    "# generate the string for regression equation\n",
    "string = \"y = \" + str(round(slope,2)) + \"x + \" + str(round(intercept,2))\n",
    "# print the r-value of the regression\n",
    "print({rvalue})\n",
    "\n",
    "# plot the values and the regression\n",
    "plt.scatter(x_value,y_value)\n",
    "plt.plot(x_value,regress,\"r-\")\n",
    "# add proper plot labels\n",
    "plt.title('Latitude vs.Humidity')\n",
    "plt.xlabel('Latitude')\n",
    "plt.ylabel('Humidity')"
   ]
  },
  {
   "cell_type": "markdown",
   "metadata": {},
   "source": [
    "####  Northern Hemisphere - Cloudiness (%) vs. Latitude Linear Regression"
   ]
  },
  {
   "cell_type": "code",
   "execution_count": 53,
   "metadata": {},
   "outputs": [
    {
     "name": "stdout",
     "output_type": "stream",
     "text": [
      "{0.08875860233369302}\n"
     ]
    },
    {
     "data": {
      "text/plain": [
       "Text(0, 0.5, 'Cloudiness')"
      ]
     },
     "execution_count": 53,
     "metadata": {},
     "output_type": "execute_result"
    },
    {
     "data": {
      "image/png": "[encoded data removed]",
      "text/plain": [
       "<Figure size 432x288 with 1 Axes>"
      ]
     },
     "metadata": {
      "needs_background": "light"
     },
     "output_type": "display_data"
    }
   ],
   "source": [
    "# pull pertinent values into lists to make regression simpler\n",
    "x_value = north_df['Lat'].tolist()\n",
    "y_value = north_df['Cloudiness'].tolist()\n",
    "# use scipy.stats.linregress to determine the regression parameters\n",
    "(slope, intercept, rvalue, pvalue, stderr) = linregress(x_value, y_value)\n",
    "# generate the regression values using the slope-intercept equation\n",
    "regress = [value * slope + intercept for value in x_value]\n",
    "# generate the string for regression equation\n",
    "string = \"y = \" + str(round(slope,2)) + \"x + \" + str(round(intercept,2))\n",
    "# print the r-value of the regression\n",
    "print({rvalue})\n",
    "\n",
    "# plot the values and the regression\n",
    "plt.scatter(x_value,y_value)\n",
    "plt.plot(x_value,regress,\"r-\")\n",
    "# add proper plot labels\n",
    "plt.title('Latitude vs.Cloudiness')\n",
    "plt.xlabel('Latitude')\n",
    "plt.ylabel('Cloudiness')"
   ]
  },
  {
   "cell_type": "markdown",
   "metadata": {},
   "source": [
    "####  Southern Hemisphere - Cloudiness (%) vs. Latitude Linear Regression"
   ]
  },
  {
   "cell_type": "code",
   "execution_count": 54,
   "metadata": {},
   "outputs": [
    {
     "name": "stdout",
     "output_type": "stream",
     "text": [
      "{0.011992421294621356}\n"
     ]
    },
    {
     "data": {
      "text/plain": [
       "Text(0, 0.5, 'Cloudiness')"
      ]
     },
     "execution_count": 54,
     "metadata": {},
     "output_type": "execute_result"
    },
    {
     "data": {
      "image/png": "[encoded data removed]",
      "text/plain": [
       "<Figure size 432x288 with 1 Axes>"
      ]
     },
     "metadata": {
      "needs_background": "light"
     },
     "output_type": "display_data"
    }
   ],
   "source": [
    "# pull pertinent values into lists to make regression simpler\n",
    "x_value = south_df['Lat'].tolist()\n",
    "y_value = south_df['Cloudiness'].tolist()\n",
    "# use scipy.stats.linregress to determine the regression parameters\n",
    "(slope, intercept, rvalue, pvalue, stderr) = linregress(x_value, y_value)\n",
    "# generate the regression values using the slope-intercept equation\n",
    "regress = [value * slope + intercept for value in x_value]\n",
    "# generate the string for regression equation\n",
    "string = \"y = \" + str(round(slope,2)) + \"x + \" + str(round(intercept,2))\n",
    "# print the r-value of the regression\n",
    "print({rvalue})\n",
    "\n",
    "# plot the values and the regression\n",
    "plt.scatter(x_value,y_value)\n",
    "plt.plot(x_value,regress,\"r-\")\n",
    "# add proper plot labels\n",
    "plt.title('Latitude vs.Cloudiness')\n",
    "plt.xlabel('Latitude')\n",
    "plt.ylabel('Cloudiness')"
   ]
  },
  {
   "cell_type": "markdown",
   "metadata": {},
   "source": [
    "####  Northern Hemisphere - Wind Speed (mph) vs. Latitude Linear Regression"
   ]
  },
  {
   "cell_type": "code",
   "execution_count": 57,
   "metadata": {},
   "outputs": [
    {
     "name": "stdout",
     "output_type": "stream",
     "text": [
      "{-0.042304815582290746}\n"
     ]
    },
    {
     "data": {
      "text/plain": [
       "Text(0, 0.5, 'Wind Speed')"
      ]
     },
     "execution_count": 57,
     "metadata": {},
     "output_type": "execute_result"
    },
    {
     "data": {
      "image/png": "[encoded data removed]",
      "text/plain": [
       "<Figure size 432x288 with 1 Axes>"
      ]
     },
     "metadata": {
      "needs_background": "light"
     },
     "output_type": "display_data"
    }
   ],
   "source": [
    "# pull pertinent values into lists to make regression simpler\n",
    "x_value = north_df['Lat'].tolist()\n",
    "y_value = north_df['Lng'].tolist()\n",
    "# use scipy.stats.linregress to determine the regression parameters\n",
    "(slope, intercept, rvalue, pvalue, stderr) = linregress(x_value, y_value)\n",
    "# generate the regression values using the slope-intercept equation\n",
    "regress = [value * slope + intercept for value in x_value]\n",
    "# generate the string for regression equation\n",
    "string = \"y = \" + str(round(slope,2)) + \"x + \" + str(round(intercept,2))\n",
    "# print the r-value of the regression\n",
    "print({rvalue})\n",
    "\n",
    "# plot the values and the regression\n",
    "plt.scatter(x_value,y_value)\n",
    "plt.plot(x_value,regress,\"r-\")\n",
    "# add proper plot labels\n",
    "plt.title('Latitude vs.Wind Speed')\n",
    "plt.xlabel('Latitude')\n",
    "plt.ylabel('Wind Speed')"
   ]
  },
  {
   "cell_type": "markdown",
   "metadata": {},
   "source": [
    "####  Southern Hemisphere - Wind Speed (mph) vs. Latitude Linear Regression"
   ]
  },
  {
   "cell_type": "code",
   "execution_count": 58,
   "metadata": {},
   "outputs": [
    {
     "name": "stdout",
     "output_type": "stream",
     "text": [
      "{-0.10582105352883724}\n"
     ]
    },
    {
     "data": {
      "text/plain": [
       "Text(0, 0.5, 'Wind Speed')"
      ]
     },
     "execution_count": 58,
     "metadata": {},
     "output_type": "execute_result"
    },
    {
     "data": {
      "image/png": "[encoded data removed]",
      "text/plain": [
       "<Figure size 432x288 with 1 Axes>"
      ]
     },
     "metadata": {
      "needs_background": "light"
     },
     "output_type": "display_data"
    }
   ],
   "source": [
    "# pull pertinent values into lists to make regression simpler\n",
    "x_value = south_df['Lat'].tolist()\n",
    "y_value = south_df['Lng'].tolist()\n",
    "# use scipy.stats.linregress to determine the regression parameters\n",
    "(slope, intercept, rvalue, pvalue, stderr) = linregress(x_value, y_value)\n",
    "# generate the regression values using the slope-intercept equation\n",
    "regress = [value * slope + intercept for value in x_value]\n",
    "# generate the string for regression equation\n",
    "string = \"y = \" + str(round(slope,2)) + \"x + \" + str(round(intercept,2))\n",
    "# print the r-value of the regression\n",
    "print({rvalue})\n",
    "\n",
    "# plot the values and the regression\n",
    "plt.scatter(x_value,y_value)\n",
    "plt.plot(x_value,regress,\"r-\")\n",
    "# add proper plot labels\n",
    "plt.title('Latitude vs.Wind Speed')\n",
    "plt.xlabel('Latitude')\n",
    "plt.ylabel('Wind Speed')"
   ]
  },
  {
   "cell_type": "code",
   "execution_count": null,
   "metadata": {},
   "outputs": [],
   "source": []
  }
 ],
 "metadata": {
  "anaconda-cloud": {},
  "kernel_info": {
   "name": "python3"
  },
  "kernelspec": {
   "display_name": "Python 3",
   "language": "python",
   "name": "python3"
  },
  "language_info": {
   "codemirror_mode": {
    "name": "ipython",
    "version": 3
   },
   "file_extension": ".py",
   "mimetype": "text/x-python",
   "name": "python",
   "nbconvert_exporter": "python",
   "pygments_lexer": "ipython3",
   "version": "3.8.8"
  },
  "latex_envs": {
   "LaTeX_envs_menu_present": true,
   "autoclose": false,
   "autocomplete": true,
   "bibliofile": "biblio.bib",
   "cite_by": "apalike",
   "current_citInitial": 1,
   "eqLabelWithNumbers": true,
   "eqNumInitial": 1,
   "hotkeys": {
    "equation": "Ctrl-E",
    "itemize": "Ctrl-I"
   },
   "labels_anchors": false,
   "latex_user_defs": false,
   "report_style_numbering": false,
   "user_envs_cfg": false
  },
  "nteract": {
   "version": "0.12.3"
  }
 },
 "nbformat": 4,
 "nbformat_minor": 2
}
